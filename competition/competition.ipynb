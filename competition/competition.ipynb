{
 "cells": [
  {
   "cell_type": "markdown",
   "metadata": {},
   "source": [
    "# Introduction\n",
    "\n",
    "Here is the jupyter notebook for those who have signed up for the [competition](https://codalab.lisn.upsaclay.fr/competitions/8440?secret_key=51d5952f-d68d-47d9-baef-6032445dea01) in NTU.\n",
    "\n",
    "## Goal\n",
    "The competition's goal is to maximize the accumulative return rate of the test input. Based on the current price information, your agent should generate a portfolio weight which will give the hightest return rate defined below. \n",
    "\n",
    "## Dataset\n",
    "In this competition, you will be given 1 complete datasets as training dataset and 2 incomplete datasets as test datasets, where there is no feature `close`.\n",
    "\n",
    "In both complete and incomplete datasets, there are 15 assets.\n",
    "### Data Visualization\n",
    "Here is a glance of how the train data look like"
   ]
  },
  {
   "cell_type": "code",
   "execution_count": 112,
   "metadata": {},
   "outputs": [
    {
     "data": {
      "text/html": [
       "<div>\n",
       "<style scoped>\n",
       "    .dataframe tbody tr th:only-of-type {\n",
       "        vertical-align: middle;\n",
       "    }\n",
       "\n",
       "    .dataframe tbody tr th {\n",
       "        vertical-align: top;\n",
       "    }\n",
       "\n",
       "    .dataframe thead th {\n",
       "        text-align: right;\n",
       "    }\n",
       "</style>\n",
       "<table border=\"1\" class=\"dataframe\">\n",
       "  <thead>\n",
       "    <tr style=\"text-align: right;\">\n",
       "      <th></th>\n",
       "      <th>feature_0</th>\n",
       "      <th>feature_1</th>\n",
       "      <th>feature_2</th>\n",
       "      <th>feature_3</th>\n",
       "      <th>feature_4</th>\n",
       "      <th>feature_5</th>\n",
       "      <th>feature_6</th>\n",
       "      <th>feature_7</th>\n",
       "      <th>feature_8</th>\n",
       "      <th>feature_9</th>\n",
       "      <th>feature_10</th>\n",
       "      <th>date</th>\n",
       "      <th>close</th>\n",
       "      <th>tic</th>\n",
       "    </tr>\n",
       "  </thead>\n",
       "  <tbody>\n",
       "    <tr>\n",
       "      <th>0</th>\n",
       "      <td>-0.008320</td>\n",
       "      <td>0.002999</td>\n",
       "      <td>-0.010062</td>\n",
       "      <td>-0.143726</td>\n",
       "      <td>0.005374</td>\n",
       "      <td>-0.010348</td>\n",
       "      <td>-0.011415</td>\n",
       "      <td>0.002751</td>\n",
       "      <td>-0.061124</td>\n",
       "      <td>-0.072128</td>\n",
       "      <td>-0.126481</td>\n",
       "      <td>0</td>\n",
       "      <td>14.765714</td>\n",
       "      <td>0</td>\n",
       "    </tr>\n",
       "    <tr>\n",
       "      <th>0</th>\n",
       "      <td>0.005332</td>\n",
       "      <td>0.005803</td>\n",
       "      <td>-0.005646</td>\n",
       "      <td>-0.225326</td>\n",
       "      <td>-0.005459</td>\n",
       "      <td>0.007794</td>\n",
       "      <td>-0.008521</td>\n",
       "      <td>-0.008222</td>\n",
       "      <td>-0.017393</td>\n",
       "      <td>-0.031253</td>\n",
       "      <td>-0.042012</td>\n",
       "      <td>0</td>\n",
       "      <td>63.759998</td>\n",
       "      <td>1</td>\n",
       "    </tr>\n",
       "    <tr>\n",
       "      <th>0</th>\n",
       "      <td>-0.004561</td>\n",
       "      <td>0.002902</td>\n",
       "      <td>-0.017413</td>\n",
       "      <td>-0.136140</td>\n",
       "      <td>-0.003100</td>\n",
       "      <td>0.004561</td>\n",
       "      <td>-0.004885</td>\n",
       "      <td>-0.017185</td>\n",
       "      <td>-0.029824</td>\n",
       "      <td>-0.045096</td>\n",
       "      <td>-0.052918</td>\n",
       "      <td>0</td>\n",
       "      <td>48.240002</td>\n",
       "      <td>2</td>\n",
       "    </tr>\n",
       "    <tr>\n",
       "      <th>0</th>\n",
       "      <td>-0.003094</td>\n",
       "      <td>0.003632</td>\n",
       "      <td>-0.009956</td>\n",
       "      <td>-0.181742</td>\n",
       "      <td>0.001482</td>\n",
       "      <td>0.002922</td>\n",
       "      <td>-0.007421</td>\n",
       "      <td>-0.004776</td>\n",
       "      <td>-0.002812</td>\n",
       "      <td>-0.013054</td>\n",
       "      <td>-0.001687</td>\n",
       "      <td>0</td>\n",
       "      <td>74.330002</td>\n",
       "      <td>3</td>\n",
       "    </tr>\n",
       "    <tr>\n",
       "      <th>0</th>\n",
       "      <td>-0.015182</td>\n",
       "      <td>0.006958</td>\n",
       "      <td>-0.015182</td>\n",
       "      <td>-0.252029</td>\n",
       "      <td>0.009257</td>\n",
       "      <td>0.010322</td>\n",
       "      <td>-0.004803</td>\n",
       "      <td>-0.010627</td>\n",
       "      <td>-0.001714</td>\n",
       "      <td>-0.005438</td>\n",
       "      <td>0.006133</td>\n",
       "      <td>0</td>\n",
       "      <td>94.849998</td>\n",
       "      <td>4</td>\n",
       "    </tr>\n",
       "  </tbody>\n",
       "</table>\n",
       "</div>"
      ],
      "text/plain": [
       "   feature_0  feature_1  feature_2  feature_3  feature_4  feature_5  \\\n",
       "0  -0.008320   0.002999  -0.010062  -0.143726   0.005374  -0.010348   \n",
       "0   0.005332   0.005803  -0.005646  -0.225326  -0.005459   0.007794   \n",
       "0  -0.004561   0.002902  -0.017413  -0.136140  -0.003100   0.004561   \n",
       "0  -0.003094   0.003632  -0.009956  -0.181742   0.001482   0.002922   \n",
       "0  -0.015182   0.006958  -0.015182  -0.252029   0.009257   0.010322   \n",
       "\n",
       "   feature_6  feature_7  feature_8  feature_9  feature_10  date      close  \\\n",
       "0  -0.011415   0.002751  -0.061124  -0.072128   -0.126481     0  14.765714   \n",
       "0  -0.008521  -0.008222  -0.017393  -0.031253   -0.042012     0  63.759998   \n",
       "0  -0.004885  -0.017185  -0.029824  -0.045096   -0.052918     0  48.240002   \n",
       "0  -0.007421  -0.004776  -0.002812  -0.013054   -0.001687     0  74.330002   \n",
       "0  -0.004803  -0.010627  -0.001714  -0.005438    0.006133     0  94.849998   \n",
       "\n",
       "   tic  \n",
       "0    0  \n",
       "0    1  \n",
       "0    2  \n",
       "0    3  \n",
       "0    4  "
      ]
     },
     "execution_count": 112,
     "metadata": {},
     "output_type": "execute_result"
    }
   ],
   "source": [
    "import numpy as np \n",
    "import pandas as pd\n",
    "train=pd.read_csv(\"data/train.csv\",index_col=0)\n",
    "train.head(5)"
   ]
  },
  {
   "cell_type": "markdown",
   "metadata": {},
   "source": [
    "In the RL setting, we view all 15 stocks's feature information as state, which is the input of your model.\n",
    "\n",
    "Here is a glance of what the state in timestamp 0 looks like"
   ]
  },
  {
   "cell_type": "code",
   "execution_count": 113,
   "metadata": {},
   "outputs": [],
   "source": [
    "# technical_indicator_list=[\"feature_0\",\"feature_1\",\"feature_2\",\"feature_3\",\"feature_4\",\"feature_5\",\"feature_6\",\"feature_7\",\"feature_8\",\"feature_9\",\"feature_10\"]\n",
    "# train.loc[0][technical_indicator_list]"
   ]
  },
  {
   "cell_type": "markdown",
   "metadata": {},
   "source": [
    "### Reward Calculation\n",
    "Based on the state in timestamp 0, we use random portfolio weights to demonstrate how the reward of the random action is calculated."
   ]
  },
  {
   "cell_type": "code",
   "execution_count": 114,
   "metadata": {},
   "outputs": [
    {
     "data": {
      "text/plain": [
       "0.004641084858688817"
      ]
     },
     "execution_count": 114,
     "metadata": {},
     "output_type": "execute_result"
    }
   ],
   "source": [
    "# generate random action\n",
    "random_score=np.random.rand(15)\n",
    "random_weights=np.exp(random_score)/np.sum(np.exp(random_score))\n",
    "# calculate return_rate for every single ticker of day 0\n",
    "close_price_0=train.loc[0].close.values\n",
    "close_price_1=train.loc[1].close.values\n",
    "single_return_rate=close_price_1/close_price_0-1\n",
    "# calculate the return rate of the random action\n",
    "return_rate_action=np.sum(random_weights*single_return_rate)\n",
    "return_rate_action"
   ]
  },
  {
   "cell_type": "markdown",
   "metadata": {},
   "source": [
    "We provide a [Trading Environment](https://github.com/TradeMaster-NTU/TradeMaster/blob/main/env/PM/portfolio_for_EIIE.py) to automate the process of state stepping and reward calculation."
   ]
  },
  {
   "cell_type": "markdown",
   "metadata": {},
   "source": [
    "## Baseline Implementation\n",
    "Here, we provide a baseline for the competition using one of the algorithms in TradeMaster. You can follow the rest jupyter notebook to create a borderline submission.\n"
   ]
  },
  {
   "cell_type": "markdown",
   "metadata": {},
   "source": [
    "# Installation\n",
    "\n",
    "Here we provide the [video tutorial](https://www.youtube.com/watch?v=7rtqFT9I4uo&t=12s) for you to install this project to better participate in the competition."
   ]
  },
  {
   "cell_type": "markdown",
   "metadata": {},
   "source": [
    "# RL enviornment & baselines"
   ]
  },
  {
   "cell_type": "markdown",
   "metadata": {},
   "source": [
    "### Running Environment Set Up\n",
    "First, we need to add the project to our system path because the setting of jupter notebook is a little different from that of py document.\n",
    "Then, we need to load the document we need to import the module we need"
   ]
  },
  {
   "cell_type": "code",
   "execution_count": 115,
   "metadata": {},
   "outputs": [
    {
     "name": "stdout",
     "output_type": "stream",
     "text": [
      "The autoreload extension is already loaded. To reload it, use:\n",
      "  %reload_ext autoreload\n"
     ]
    }
   ],
   "source": [
    "%load_ext autoreload\n",
    "%autoreload 2"
   ]
  },
  {
   "cell_type": "code",
   "execution_count": 116,
   "metadata": {},
   "outputs": [],
   "source": [
    "import sys\n",
    "sys.path.append(\"..\")\n",
    "from agent.EIIE.model import EIIE_con, EIIE_lstm, EIIE_rnn, EIIE_critirc\n",
    "import argparse\n",
    "from agent.EIIE.util import *\n",
    "from env.PM.portfolio_for_EIIE import Tradingenv\n",
    "from logging import raiseExceptions\n",
    "from stat import S_ENFMT\n",
    "import torch.nn as nn\n",
    "import pandas as pd\n",
    "import sys\n",
    "from agent.EIIE.trader import trader\n"
   ]
  },
  {
   "cell_type": "markdown",
   "metadata": {},
   "source": [
    "### Config and Hyperparameters Adjustment\n"
   ]
  },
  {
   "cell_type": "markdown",
   "metadata": {},
   "source": [
    "Below is a part where you can adjust the default hyperparameters\n",
    "More specifically, besides the hyperparameters the DPG need, it also contains information like the path of the config file of the training and validing environment. "
   ]
  },
  {
   "cell_type": "code",
   "execution_count": 117,
   "metadata": {},
   "outputs": [
    {
     "data": {
      "text/plain": [
       "_StoreAction(option_strings=['--num_epoch'], dest='num_epoch', nargs=None, const=None, default=1, type=<class 'int'>, choices=None, help='the number of epoch we train', metavar=None)"
      ]
     },
     "execution_count": 117,
     "metadata": {},
     "output_type": "execute_result"
    }
   ],
   "source": [
    "parser = argparse.ArgumentParser()\n",
    "parser.add_argument(\"--random_seed\",\n",
    "                    type=int,\n",
    "                    default=12345,\n",
    "                    help=\"random seed number\")\n",
    "parser.add_argument(\n",
    "    \"--env_config_path\",\n",
    "    type=str,\n",
    "    default=\"config/input_config/env/portfolio/portfolio_for_EIIE/\",\n",
    "    help=\"the path for storing the downloaded data\")\n",
    "parser.add_argument(\n",
    "    \"--net_type\",\n",
    "    choices=[\"conv\", \"lstm\", \"rnn\"],\n",
    "    default=\"rnn\",\n",
    "    help=\"the name of the model\",\n",
    ")\n",
    "parser.add_argument(\n",
    "    \"--num_hidden_nodes\",\n",
    "    type=int,\n",
    "    default=32,\n",
    "    help=\"the number of hidden nodes in lstm or rnn\",\n",
    ")\n",
    "parser.add_argument(\n",
    "    \"--num_out_channel\",\n",
    "    type=int,\n",
    "    default=2,\n",
    "    help=\"the number of channel\",\n",
    ")\n",
    "parser.add_argument(\n",
    "    \"--gamma\",\n",
    "    type=float,\n",
    "    default=0.99,\n",
    "    help=\"the gamma for DPG\",\n",
    ")\n",
    "parser.add_argument(\n",
    "    \"--model_path\",\n",
    "    type=str,\n",
    "    default=\"result/EIIE/trained_model\",\n",
    "    help=\"the path for trained model\",\n",
    ")\n",
    "parser.add_argument(\n",
    "    \"--result_path\",\n",
    "    type=str,\n",
    "    default=\"result/EIIE/test_result\",\n",
    "    help=\"the path for test result\",\n",
    ")\n",
    "parser.add_argument(\n",
    "    \"--num_epoch\",\n",
    "    type=int,\n",
    "    default=1,\n",
    "    help=\"the number of epoch we train\",\n",
    ")\n"
   ]
  },
  {
   "cell_type": "markdown",
   "metadata": {},
   "source": [
    "### Agent Building & Training"
   ]
  },
  {
   "cell_type": "code",
   "execution_count": 118,
   "metadata": {},
   "outputs": [
    {
     "name": "stdout",
     "output_type": "stream",
     "text": [
      "{'df_path': 'data/train.csv', 'initial_amount': 100000, 'length_day': 3, 'tech_indicator_list': ['feature_0', 'feature_1', 'feature_2', 'feature_3', 'feature_4', 'feature_5', 'feature_6', 'feature_7', 'feature_8', 'feature_9', 'feature_10'], 'transaction_cost_pct': 0.0}\n"
     ]
    }
   ],
   "source": [
    "args = parser.parse_args(args=[])\n",
    "agent=trader(args)\n",
    "# agent.train_with_valid()\n",
    "\n",
    "print(agent.train_env_config)\n"
   ]
  },
  {
   "cell_type": "markdown",
   "metadata": {},
   "source": [
    "### Testing & Generate Submission Files"
   ]
  },
  {
   "cell_type": "code",
   "execution_count": 119,
   "metadata": {},
   "outputs": [],
   "source": [
    "# test_information_1=pd.read_csv(\"data/test_input_1.csv\",index_col=0)\n",
    "# test_information_2=pd.read_csv(\"data/test_input_2.csv\",index_col=0)\n",
    "# technical_indicator=[\"feature_0\",\"feature_1\",\"feature_2\",\"feature_3\",\"feature_4\",\"feature_5\",\"feature_6\",\"feature_7\",\"feature_8\",\"feature_9\",\"feature_10\"]"
   ]
  },
  {
   "cell_type": "code",
   "execution_count": 120,
   "metadata": {},
   "outputs": [],
   "source": [
    "# action_list_1=[]\n",
    "# for date in test_information_1.index.unique():\n",
    "#     s=test_information_1[test_information_1.index==date][technical_indicator].values\n",
    "#     shape=s.shape\n",
    "#     s=s.reshape(shape[0],1,shape[1])\n",
    "#     s=torch.from_numpy(s).float()\n",
    "#     action=agent.net(s)\n",
    "#     #here the origional action for the environment consider the cash, which is more pracitical in real world, but for \n",
    "#     #the competition, we only need the last 15 weights for the assets, therefore we need to normalize the result as well\n",
    "#     action=action.detach().float().numpy()\n",
    "#     action=action[1:]/np.sum(action[1:])\n",
    "#     action_list_1.append(action)\n",
    "# action_list_1=np.array(action_list_1)\n",
    "# action_list_1=action_list_1.astype(float)\n",
    "# np.save(\"result/EIIE/action/action1.npy\",action_list_1)"
   ]
  },
  {
   "cell_type": "code",
   "execution_count": 121,
   "metadata": {},
   "outputs": [],
   "source": [
    "# action_list_2=[]\n",
    "# for date in test_information_2.index.unique():\n",
    "#     s=test_information_2[test_information_2.index==date][technical_indicator].values\n",
    "#     shape=s.shape\n",
    "#     s=s.reshape(shape[0],1,shape[1])\n",
    "#     s=torch.from_numpy(s).float()\n",
    "#     action=agent.net(s)\n",
    "#     #here the origional action for the environment consider the cash, which is more pracitical in real world, but for \n",
    "#     #the competition, we only need the last 15 weights for the assets, therefore we need to normalize the result as well\n",
    "#     action=action.detach().float().numpy()\n",
    "#     action=action[1:]/np.sum(action[1:])\n",
    "#     action_list_2.append(action)\n",
    "# action_list_2=np.array(action_list_2)\n",
    "# action_list_2=action_list_2.astype(float)\n",
    "# np.save(\"result/EIIE/action/action2.npy\",action_list_2)"
   ]
  },
  {
   "cell_type": "markdown",
   "metadata": {},
   "source": [
    "Next, Compress the 2 file as a zip file as submission file.\n",
    "Please notice that the zip file should only contain this 2 files name after `action1.npy` and `action2.npy` with no external folder. \n"
   ]
  },
  {
   "cell_type": "markdown",
   "metadata": {},
   "source": [
    "The next is core code of the agent.\n",
    "## RL Environment Configuration"
   ]
  },
  {
   "cell_type": "markdown",
   "metadata": {},
   "source": [
    "In TradeMaster, you need to provide 3 RL environment configuration before building an agent. The TradeMaster agents will automatically follow the process using the training RL environment to train the agent, test it in the validation environment and pick the best model of training and pose it in the testing environment."
   ]
  },
  {
   "cell_type": "code",
   "execution_count": 122,
   "metadata": {},
   "outputs": [],
   "source": [
    "train_env_instance=agent.train_env_instance\n",
    "valid_env_instance=agent.valid_env_instance\n",
    "test_env_instance=agent.train_env_instance"
   ]
  },
  {
   "cell_type": "code",
   "execution_count": 123,
   "metadata": {},
   "outputs": [],
   "source": [
    "# Reseting the environment, means to clear all the history and start from the begining. \n",
    "# It will return the initial state  \n",
    "# Here is an example of posing the random action to the train_env_instance\n",
    "# s=train_env_instance.reset()\n",
    "# action=np.random.rand(16)\n",
    "# done=False\n",
    "# while not done:\n",
    "#     old_state = s\n",
    "#     s, reward, done, _ =train_env_instance.step(action)"
   ]
  },
  {
   "cell_type": "code",
   "execution_count": 124,
   "metadata": {},
   "outputs": [],
   "source": [
    "def check_action_score(action_score_list):\n",
    "    true_action_list = []\n",
    "    for action_score in action_score_list:\n",
    "        if np.sum(action_score) == 1:\n",
    "            action = action_score\n",
    "        else:\n",
    "            action = np.exp(action_score) / np.sum(np.exp(action_score))\n",
    "        true_action_list.append(action)\n",
    "    return np.array(true_action_list)"
   ]
  },
  {
   "cell_type": "markdown",
   "metadata": {},
   "source": [
    "next is the core code of EIIE, I will decompose it so that you can understand the process of training, making it easier for you to build your own agent"
   ]
  },
  {
   "cell_type": "code",
   "execution_count": 125,
   "metadata": {},
   "outputs": [],
   "source": [
    "# define the net\n",
    "# Just like the supervised leanrning process, we need a net to regress something, here the EIIE is Actor-Critic RL model where we need a actor to to generate policy and a critic\\\n",
    "# to judge whether the state is good or not\n",
    "\n",
    "import torch\n",
    "from torch import nn\n",
    "import numpy as np\n",
    "\n",
    "\n",
    "class EIIE_con(torch.nn.Module):\n",
    "    def __init__(self, in_channels, out_channels, length, kernel_size=1):\n",
    "        super(EIIE_con, self).__init__()\n",
    "        self.in_channels = in_channels\n",
    "        self.out_channels = out_channels\n",
    "        self.kernel_size = kernel_size\n",
    "        self.length = length\n",
    "        self.act = torch.nn.ReLU(inplace=False)\n",
    "        self.con1d = nn.Conv1d(self.in_channels,\n",
    "                               self.out_channels,\n",
    "                               kernel_size=1)\n",
    "        self.con2d = nn.Conv1d(self.out_channels,\n",
    "                               1,\n",
    "                               kernel_size=1)\n",
    "        self.con3d = nn.Conv1d(1, 1, kernel_size=1)\n",
    "        self.para = torch.nn.Parameter(torch.ones(1).requires_grad_())\n",
    "\n",
    "    def forward(self, x):\n",
    "        x = x.permute(0, 2, 1)\n",
    "        x = self.con1d(x)\n",
    "        x = self.act(x)\n",
    "        x = self.con2d(x)\n",
    "        x = self.act(x)\n",
    "        x = self.con3d(x)\n",
    "        x = x.view(-1)\n",
    "\n",
    "        # self.linear2 = nn.Linear(len(x), len(x) + 1)\n",
    "        # x = self.linear2(x)\n",
    "        x = torch.cat((x, self.para), dim=0)\n",
    "        x = torch.softmax(x, dim=0)\n",
    "\n",
    "        return x\n",
    "\n",
    "\n",
    "class EIIE_lstm(nn.Module):\n",
    "    def __init__(self, n_features, layer_num, n_hidden):\n",
    "        super(EIIE_lstm, self).__init__()\n",
    "        self.n_features = n_features\n",
    "        self.n_hidden = n_hidden\n",
    "        self.n_layers = layer_num\n",
    "        self.lstm = nn.LSTM(input_size=n_features,\n",
    "                            hidden_size=self.n_hidden,\n",
    "                            num_layers=self.n_layers,\n",
    "                            batch_first=True)\n",
    "        self.linear = nn.Linear(self.n_hidden, 1)\n",
    "        self.con3d = nn.Conv1d(1, 1, kernel_size=1)\n",
    "        self.para = torch.nn.Parameter(torch.ones(1).requires_grad_())\n",
    "\n",
    "    def forward(self, x):\n",
    "        lstm_out, _ = self.lstm(x)\n",
    "        # print('1',lstm_out[:, -1, :].shape)\n",
    "        # print('2',lstm_out[:, :, :].shape)\n",
    "        # x = self.linear(lstm_out).transpose(1, 2)\n",
    "        x = self.linear(lstm_out[:, -1, :]).view(-1, 1, 1)\n",
    "        # print('3',x.transpose(1, 2).shape)        \n",
    "        # print('4',x.shape)\n",
    "        # print('5',x)\n",
    "        x = self.con3d(x)\n",
    "        # print('6',x.shape)\n",
    "        x = x.view(-1)\n",
    "        # print('7',x.shape)\n",
    "        x = torch.cat((x, self.para), dim=0)\n",
    "        x = torch.softmax(x, dim=0)\n",
    "        # print(x.shape)\n",
    "        return x\n",
    "\n",
    "\n",
    "class EIIE_rnn(nn.Module):\n",
    "    def __init__(self, n_features, layer_num, n_hidden):\n",
    "        super(EIIE_rnn, self).__init__()\n",
    "        self.n_features = n_features\n",
    "        self.n_hidden = n_hidden\n",
    "        self.n_layers = layer_num\n",
    "        self.rnn = nn.RNN(input_size=n_features,\n",
    "                          hidden_size=self.n_hidden,\n",
    "                          num_layers=self.n_layers,\n",
    "                          batch_first=True)\n",
    "        self.linear = nn.Linear(self.n_hidden, 1)\n",
    "        self.con3d = nn.Conv1d(1, 1, kernel_size=1)\n",
    "        self.para = torch.nn.Parameter(torch.ones(1).requires_grad_())\n",
    "\n",
    "    def forward(self, x):\n",
    "        lstm_out, _ = self.rnn(x)\n",
    "        x = self.linear(lstm_out[:, -1, :]).view(-1, 1, 1)\n",
    "        x = self.con3d(x)\n",
    "        x = x.view(-1)\n",
    "        x = torch.cat((x, self.para), dim=0)\n",
    "        x = torch.softmax(x, dim=0)\n",
    "        return x\n",
    "    \n",
    "class EIIE_critirc(nn.Module):\n",
    "    def __init__(self, n_features, layer_num, n_hidden):\n",
    "        super(EIIE_critirc, self).__init__()\n",
    "        self.n_features = n_features\n",
    "        self.n_hidden = n_hidden\n",
    "        self.n_layers = layer_num\n",
    "        self.lstm = nn.LSTM(input_size=n_features,\n",
    "                            hidden_size=self.n_hidden,\n",
    "                            num_layers=self.n_layers,\n",
    "                            batch_first=True)\n",
    "        self.linear = nn.Linear(self.n_hidden, 1)\n",
    "        self.con3d = nn.Conv1d(1, 1, kernel_size=1)\n",
    "        self.para = torch.nn.Parameter(torch.ones(1).requires_grad_())\n",
    "\n",
    "    def forward(self, x, a):\n",
    "        lstm_out, _ = self.lstm(x)\n",
    "        x = self.linear(lstm_out[:, -1, :]).view(-1, 1, 1)\n",
    "        x = self.con3d(x)\n",
    "        x = x.view(-1)\n",
    "        x = torch.cat((x, self.para, a), dim=0)\n",
    "        x = torch.nn.ReLU(inplace=False)(x)\n",
    "        number_nodes = len(x)\n",
    "        self.linear2 = nn.Linear(number_nodes, 1)\n",
    "        x = self.linear2(x)\n",
    "        return x"
   ]
  },
  {
   "cell_type": "code",
   "execution_count": 126,
   "metadata": {},
   "outputs": [],
   "source": [
    "# here are the code for the trader, the key lies on the learn function\n",
    "model_name = \"lstm_win3_noStandardized_2layer_8hidden_0.99g\"\n",
    "result_folder_location = \"result/\"+ model_name + \"/test_result/\"\n",
    "model_folder_location = \"result/\"+ model_name + \"/trained_model\"\n",
    "class trader:\n",
    "    def __init__(self):\n",
    "        self.num_epoch = 10\n",
    "        self.GPU_IN_USE = torch.cuda.is_available()\n",
    "        self.device = torch.device('cpu' if self.GPU_IN_USE else 'cpu')\n",
    "        self.model_path = model_folder_location\n",
    "        if not os.path.exists(self.model_path):\n",
    "            os.makedirs(self.model_path)\n",
    "        self.result_path = result_folder_location\n",
    "        if not os.path.exists(self.result_path):\n",
    "            os.makedirs(self.result_path)\n",
    "        self.train_env_instance = train_env_instance\n",
    "        self.valid_env_instance = valid_env_instance\n",
    "        self.test_env_instance = test_env_instance\n",
    "        self.n_hidden = 8\n",
    "        self.input_channel = 11\n",
    "        self.layer_num = 2\n",
    "        self.net = EIIE_lstm(self.input_channel, self.layer_num,\n",
    "                           self.n_hidden)\n",
    "        \n",
    "        self.critic = EIIE_critirc(self.input_channel, self.layer_num,\n",
    "                                  self.n_hidden)\n",
    "        self.test_action_memory = []  # to store the\n",
    "        self.optimizer_actor = torch.optim.Adam(self.net.parameters(), lr=1e-4)\n",
    "        self.optimizer_critic = torch.optim.Adam(self.critic.parameters(),\n",
    "                                                 lr=1e-4)\n",
    "        self.memory_counter = 0\n",
    "        self.memory_capacity = 1000\n",
    "        self.s_memory = []\n",
    "        self.a_memory = []\n",
    "        self.r_memory = []\n",
    "        self.sn_memory = []\n",
    "        self.policy_update_frequency = 500\n",
    "        self.critic_learn_time = 0\n",
    "        self.gamma = 0.99\n",
    "        self.mse_loss = nn.MSELoss()\n",
    "        self.net = self.net.to(self.device)\n",
    "        self.critic = self.critic.to(self.device)\n",
    "\n",
    "    def store_transition(\n",
    "        self,\n",
    "        s,\n",
    "        a,\n",
    "        r,\n",
    "        s_,\n",
    "    ):  # 定义记忆存储函数 (这里输入为一个transition)\n",
    "\n",
    "        self.memory_counter = self.memory_counter + 1\n",
    "        if self.memory_counter < self.memory_capacity:\n",
    "            self.s_memory.append(s)\n",
    "            self.a_memory.append(a)\n",
    "            self.r_memory.append(r)\n",
    "            self.sn_memory.append(s_)\n",
    "        else:\n",
    "            number = self.memory_counter % self.memory_capacity\n",
    "            self.s_memory[number - 1] = s\n",
    "            self.a_memory[number - 1] = a\n",
    "            self.r_memory[number - 1] = r\n",
    "            self.sn_memory[number - 1] = s_\n",
    "\n",
    "    def compute_single_action(self, state):\n",
    "        state = torch.from_numpy(state).float().to(self.device)\n",
    "        action = self.net(state)\n",
    "        action = action.detach().cpu().numpy()\n",
    "        return action\n",
    "\n",
    "    def learn(self):\n",
    "        # here is the core of the trader, it shows how the updates coming out\n",
    "        # we first need to have some stored the transcation(s,a,r,s_) \n",
    "        length = len(self.s_memory)\n",
    "        out1 = random.sample(range(length), int(length / 10))\n",
    "        # random sample\n",
    "        s_learn = []\n",
    "        a_learn = []\n",
    "        r_learn = []\n",
    "        sn_learn = []\n",
    "        for number in out1:\n",
    "            s_learn.append(self.s_memory[number])\n",
    "            a_learn.append(self.a_memory[number])\n",
    "            r_learn.append(self.r_memory[number])\n",
    "            sn_learn.append(self.sn_memory[number])\n",
    "        self.critic_learn_time = self.critic_learn_time + 1\n",
    "        # for the transcation we have stored, we need to update the actor and critic\n",
    "        # for the actor, we need to comput the action and use the critic to judge the action\n",
    "        # we need to update the actor so that for every action it choose, it can gain more scores from a critic than other action \n",
    "        # for the critic , we simply use the td_error to update it because it is MDP\n",
    "\n",
    "        for bs, ba, br, bs_ in zip(s_learn, a_learn, r_learn, sn_learn):\n",
    "            #update actor\n",
    "            a = self.net(bs)\n",
    "            q = self.critic(bs, a)\n",
    "            a_loss = -torch.mean(q)\n",
    "            self.optimizer_actor.zero_grad()\n",
    "            a_loss.backward(retain_graph=True)\n",
    "            self.optimizer_actor.step()\n",
    "            #update critic\n",
    "            a_ = self.net(bs_)\n",
    "            q_ = self.critic(bs_, a_.detach())\n",
    "            q_target = br + self.gamma * q_\n",
    "            q_eval = self.critic(bs, ba.detach())\n",
    "            # print(q_eval)\n",
    "            # print(q_target)\n",
    "            td_error = self.mse_loss(q_target.detach(), q_eval)\n",
    "            # print(td_error)\n",
    "            self.optimizer_critic.zero_grad()\n",
    "            td_error.backward()\n",
    "            self.optimizer_critic.step()\n",
    "\n",
    "    def train_with_valid(self):\n",
    "        # print(self.train_env_instance.length_day)\n",
    "        rewards_list = []\n",
    "        for i in range(self.num_epoch):\n",
    "            j = 0\n",
    "            done = False\n",
    "            s = self.train_env_instance.reset()\n",
    "            while not done:\n",
    "\n",
    "                old_state = s\n",
    "                # print('checking input size: ', torch.from_numpy(s).float().size())\n",
    "                action = self.net(torch.from_numpy(s).float())\n",
    "                s, reward, done, _ = self.train_env_instance.step(\n",
    "                    action.detach().numpy())\n",
    "                self.store_transition(\n",
    "                    torch.from_numpy(old_state).float().to(self.device),\n",
    "                    action,\n",
    "                    torch.tensor(reward).float().to(self.device),\n",
    "                    torch.from_numpy(s).float().to(self.device))\n",
    "                j = j + 1\n",
    "                if j % 200 == 1:\n",
    "\n",
    "                    self.learn()\n",
    "            all_model_path = self.model_path + \"/all_model/\"\n",
    "            best_model_path = self.model_path + \"/best_model/\"\n",
    "            if not os.path.exists(all_model_path):\n",
    "                os.makedirs(all_model_path)\n",
    "            if not os.path.exists(best_model_path):\n",
    "                os.makedirs(best_model_path)\n",
    "            torch.save(self.net,\n",
    "                       all_model_path + \"actor_num_epoch_{}.pth\".format(i))\n",
    "            torch.save(self.critic,\n",
    "                       all_model_path + \"critic_num_epoch_{}.pth\".format(i))\n",
    "            s = self.valid_env_instance.reset()\n",
    "            done = False\n",
    "            rewards = 0\n",
    "            while not done:\n",
    "\n",
    "                old_state = s\n",
    "                action = self.net(torch.from_numpy(s).float())\n",
    "                s, reward, done, _ = self.valid_env_instance.step(\n",
    "                    action.detach().numpy())\n",
    "                rewards = rewards + reward\n",
    "            rewards_list.append(rewards)\n",
    "        index = rewards_list.index(np.max(rewards_list))\n",
    "        actor_model_path = all_model_path + \"actor_num_epoch_{}.pth\".format(\n",
    "            index)\n",
    "        critic_model_path = all_model_path + \"critic_num_epoch_{}.pth\".format(\n",
    "            index)\n",
    "        self.net = torch.load(actor_model_path)\n",
    "        self.critic = torch.load(critic_model_path)\n",
    "        torch.save(self.net, best_model_path + \"actor.pth\")\n",
    "        torch.save(self.critic, best_model_path + \"critic.pth\")\n",
    "\n",
    "    def test(self):\n",
    "        s = self.test_env_instance.reset()\n",
    "        done = False\n",
    "        while not done:\n",
    "            old_state = s\n",
    "            action = self.net(torch.from_numpy(s).float())\n",
    "            s, reward, done, _ = self.test_env_instance.step(\n",
    "                action.detach().numpy())\n",
    "        df_return = self.test_env_instance.save_portfolio_return_memory()\n",
    "        df_assets = self.test_env_instance.save_asset_memory()\n",
    "        assets = df_assets[\"total assets\"].values\n",
    "        daily_return = df_return.daily_return.values\n",
    "        df = pd.DataFrame()\n",
    "        df[\"daily_return\"] = daily_return\n",
    "        df[\"total assets\"] = assets\n",
    "        if not os.path.exists(self.result_path):\n",
    "            os.makedirs(self.result_path)\n",
    "        df.to_csv(self.result_path + \"/result.csv\")"
   ]
  },
  {
   "cell_type": "code",
   "execution_count": 127,
   "metadata": {},
   "outputs": [
    {
     "name": "stdout",
     "output_type": "stream",
     "text": [
      "=================================\n",
      "the profit margin is 180.62526002148655 %\n",
      "the sharpe ratio is 3.0036740249042713\n",
      "the Volatility is 0.00816436999896809\n",
      "the max drawdown is 0.6446816942582821\n",
      "the Calmar Ratio is 1.7049832109628886\n",
      "the Sortino Ratio is 3.9251156196412285\n",
      "=================================\n",
      "=================================\n",
      "the profit margin is 180.6609377453484 %\n",
      "the sharpe ratio is 3.0037106600026457\n",
      "the Volatility is 0.008165332838681628\n",
      "the max drawdown is 0.6447268624548155\n",
      "the Calmar Ratio is 1.7050856175585702\n",
      "the Sortino Ratio is 3.9251937164509627\n",
      "=================================\n",
      "=================================\n",
      "the profit margin is 180.72511144583737 %\n",
      "the sharpe ratio is 3.0040063241467516\n",
      "the Volatility is 0.008166352180109821\n",
      "the max drawdown is 0.6448087738224982\n",
      "the Calmar Ratio is 1.705249685270276\n",
      "the Sortino Ratio is 3.925676072640166\n",
      "=================================\n",
      "=================================\n",
      "the profit margin is 180.68966140538708 %\n",
      "the sharpe ratio is 3.003605292734704\n",
      "the Volatility is 0.008166525159146223\n",
      "the max drawdown is 0.6447639145167706\n",
      "the Calmar Ratio is 1.7051767810708318\n",
      "the Sortino Ratio is 3.9251379281526875\n",
      "=================================\n",
      "=================================\n",
      "the profit margin is 180.62694239864706 %\n",
      "the sharpe ratio is 3.0031936579235747\n",
      "the Volatility is 0.008165908705568298\n",
      "the max drawdown is 0.6446829810476882\n",
      "the Calmar Ratio is 1.7050284158382156\n",
      "the Sortino Ratio is 3.9245333147920656\n",
      "=================================\n",
      "=================================\n",
      "the profit margin is 180.62590229254698 %\n",
      "the sharpe ratio is 3.003835357158772\n",
      "the Volatility is 0.008163890393408159\n",
      "the max drawdown is 0.644681664107962\n",
      "the Calmar Ratio is 1.7049747056875084\n",
      "the Sortino Ratio is 3.9252561110418496\n",
      "=================================\n",
      "=================================\n",
      "the profit margin is 180.6769589687803 %\n",
      "the sharpe ratio is 3.0041307925352627\n",
      "the Volatility is 0.008164515499085126\n",
      "the max drawdown is 0.6447471244358095\n",
      "the Calmar Ratio is 1.7050998225061846\n",
      "the Sortino Ratio is 3.925926175553377\n",
      "=================================\n",
      "=================================\n",
      "the profit margin is 180.6601882972077 %\n",
      "the sharpe ratio is 3.00371238293659\n",
      "the Volatility is 0.008165304906443419\n",
      "the max drawdown is 0.6447258965255118\n",
      "the Calmar Ratio is 1.7050833173372504\n",
      "the Sortino Ratio is 3.9251941330399753\n",
      "=================================\n",
      "=================================\n",
      "the profit margin is 180.48516673597402 %\n",
      "the sharpe ratio is 3.0029577812033694\n",
      "the Volatility is 0.008162361750608093\n",
      "the max drawdown is 0.6445001194617016\n",
      "the Calmar Ratio is 1.7046374724910567\n",
      "the Sortino Ratio is 3.9240289610099532\n",
      "=================================\n",
      "=================================\n",
      "the profit margin is 180.4913777848371 %\n",
      "the sharpe ratio is 3.0043118295912565\n",
      "the Volatility is 0.008158359462102686\n",
      "the max drawdown is 0.6445079914581469\n",
      "the Calmar Ratio is 1.7045490626889206\n",
      "the Sortino Ratio is 3.9257829417661867\n",
      "=================================\n",
      "=================================\n",
      "the profit margin is 180.51904551038245 %\n",
      "the sharpe ratio is 3.004028881996868\n",
      "the Volatility is 0.008160069600800056\n",
      "the max drawdown is 0.6445439291404361\n",
      "the Calmar Ratio is 1.704650746750724\n",
      "the Sortino Ratio is 3.925677279996906\n",
      "=================================\n",
      "=================================\n",
      "the profit margin is 180.52740076160748 %\n",
      "the sharpe ratio is 3.004185275268205\n",
      "the Volatility is 0.008159837272547907\n",
      "the max drawdown is 0.6445545160733468\n",
      "the Calmar Ratio is 1.7046629567447662\n",
      "the Sortino Ratio is 3.926002943685096\n",
      "=================================\n",
      "=================================\n",
      "the profit margin is 180.48250646095082 %\n",
      "the sharpe ratio is 3.0036218175198854\n",
      "the Volatility is 0.00816022676890951\n",
      "the max drawdown is 0.6444978164978187\n",
      "the Calmar Ratio is 1.7045745347166814\n",
      "the Sortino Ratio is 3.9251218336329194\n",
      "=================================\n",
      "=================================\n",
      "the profit margin is 180.53502705995706 %\n",
      "the sharpe ratio is 3.0041558775496227\n",
      "the Volatility is 0.008160158196633766\n",
      "the max drawdown is 0.6445643721355271\n",
      "the Calmar Ratio is 1.7046872520240623\n",
      "the Sortino Ratio is 3.9259867052057054\n",
      "=================================\n",
      "=================================\n",
      "the profit margin is 180.52646918562846 %\n",
      "the sharpe ratio is 3.003877288156054\n",
      "the Volatility is 0.008160761551964626\n",
      "the max drawdown is 0.644552775543793\n",
      "the Calmar Ratio is 1.7046858695161746\n",
      "the Sortino Ratio is 3.925665704724124\n",
      "=================================\n",
      "=================================\n",
      "the profit margin is 180.50381140756105 %\n",
      "the sharpe ratio is 3.0042643005037655\n",
      "the Volatility is 0.0081588814325051\n",
      "the max drawdown is 0.644524064189441\n",
      "the Calmar Ratio is 1.7045886422426026\n",
      "the Sortino Ratio is 3.9257567784718828\n",
      "=================================\n",
      "=================================\n",
      "the profit margin is 180.5161095979883 %\n",
      "the sharpe ratio is 3.0044210612781423\n",
      "the Volatility is 0.008158767178197543\n",
      "the max drawdown is 0.6445403083343644\n",
      "the Calmar Ratio is 1.7046107530982118\n",
      "the Sortino Ratio is 3.9262292721461236\n",
      "=================================\n",
      "=================================\n",
      "the profit margin is 180.5309043582583 %\n",
      "the sharpe ratio is 3.0041680560677166\n",
      "the Volatility is 0.008159996193389018\n",
      "the max drawdown is 0.6445590547214546\n",
      "the Calmar Ratio is 1.704674382347984\n",
      "the Sortino Ratio is 3.925991664561904\n",
      "=================================\n",
      "=================================\n",
      "the profit margin is 180.5773537642436 %\n",
      "the sharpe ratio is 3.0043805712809784\n",
      "the Volatility is 0.008160739609233067\n",
      "the max drawdown is 0.644617649140613\n",
      "the Calmar Ratio is 1.7047953099633315\n",
      "the Sortino Ratio is 3.9262795783680313\n",
      "=================================\n",
      "=================================\n",
      "the profit margin is 180.52068882240016 %\n",
      "the sharpe ratio is 3.0042038678839673\n",
      "the Volatility is 0.008159577344257\n",
      "the max drawdown is 0.6445458622063653\n",
      "the Calmar Ratio is 1.7046420917923022\n",
      "the Sortino Ratio is 3.926009520566226\n",
      "=================================\n"
     ]
    }
   ],
   "source": [
    "agent=trader()\n",
    "agent.train_with_valid()\n",
    "test_information_1=pd.read_csv(\"data/test_input_1.csv\",index_col=0)\n",
    "test_information_2=pd.read_csv(\"data/test_input_2.csv\",index_col=0)\n",
    "technical_indicator=[\"feature_0\",\"feature_1\",\"feature_2\",\"feature_3\",\"feature_4\",\"feature_5\",\"feature_6\",\"feature_7\",\"feature_8\",\"feature_9\",\"feature_10\"]\n",
    "action_list_1=[]\n",
    "for date in test_information_1.index.unique():\n",
    "    s=test_information_1[test_information_1.index==date][technical_indicator].values\n",
    "    shape=s.shape\n",
    "    s=s.reshape(shape[0],1,shape[1])\n",
    "    s=torch.from_numpy(s).float()\n",
    "    action=agent.net(s)\n",
    "    #here the origional action for the environment consider the cash, which is more pracitical in real world, but for \n",
    "    #the competition, we only need the last 15 weights for the assets, therefore we need to normalize the result as well\n",
    "    action=action.detach().float().numpy()\n",
    "    action=action[1:]/np.sum(action[1:])\n",
    "    action_list_1.append(action)\n",
    "action_list_1=np.array(action_list_1)\n",
    "action_list_1=action_list_1.astype(float)\n",
    "# action_list_1 = check_action_score(action_list_1)\n",
    "np.save(result_folder_location + \"action1.npy\",action_list_1)\n",
    "action_list_2=[]\n",
    "for date in test_information_2.index.unique():\n",
    "    s=test_information_2[test_information_2.index==date][technical_indicator].values\n",
    "    shape=s.shape\n",
    "    s=s.reshape(shape[0],1,shape[1])\n",
    "    s=torch.from_numpy(s).float()\n",
    "    action=agent.net(s)\n",
    "    #here the origional action for the environment consider the cash, which is more pracitical in real world, but for \n",
    "    #the competition, we only need the last 15 weights for the assets, therefore we need to normalize the result as well\n",
    "    action=action.detach().float().numpy()\n",
    "    action=action[1:]/np.sum(action[1:])\n",
    "    action_list_2.append(action)\n",
    "action_list_2=np.array(action_list_2)\n",
    "action_list_2=action_list_2.astype(float)\n",
    "# action_list_2 = check_action_score(action_list_2)\n",
    "np.save(result_folder_location + \"action2.npy\",action_list_2)"
   ]
  },
  {
   "cell_type": "markdown",
   "metadata": {},
   "source": [
    "Next, Compress the 2 file as a zip file as submission file."
   ]
  },
  {
   "attachments": {},
   "cell_type": "markdown",
   "metadata": {},
   "source": [
    "# Playground"
   ]
  },
  {
   "cell_type": "code",
   "execution_count": 2,
   "metadata": {},
   "outputs": [],
   "source": [
    "given = np.load(\"result/EIIE/action/action1.npy\")\n",
    "givenzip = np.load(\"result/EIIE/action/result_submission/action1.npy\")\n",
    "# ran = np.load(\"result/EIIE/test_result/action1.npy\")"
   ]
  },
  {
   "cell_type": "code",
   "execution_count": 18,
   "metadata": {},
   "outputs": [
    {
     "data": {
      "text/plain": [
       "array([[0.06663452, 0.06663345, 0.0666332 , 0.06663348, 0.0666334 ,\n",
       "        0.0666344 , 0.06663331, 0.06663315, 0.06663241, 0.06663502,\n",
       "        0.06663377, 0.06663438, 0.06663213, 0.06663385, 0.06712953],\n",
       "       [0.06663439, 0.06663347, 0.06663304, 0.06663291, 0.06663307,\n",
       "        0.066634  , 0.06663385, 0.0666329 , 0.0666333 , 0.06663417,\n",
       "        0.066634  , 0.06663433, 0.06663273, 0.06663417, 0.06712968],\n",
       "       [0.0666335 , 0.06663378, 0.06663307, 0.06663406, 0.06663233,\n",
       "        0.0666333 , 0.06663481, 0.06663388, 0.06663448, 0.06663286,\n",
       "        0.06663335, 0.06663432, 0.06663313, 0.066634  , 0.06712915],\n",
       "       [0.06663334, 0.06663349, 0.06663346, 0.06663359, 0.06663383,\n",
       "        0.06663333, 0.06663383, 0.06663367, 0.0666337 , 0.06663376,\n",
       "        0.06663364, 0.0666338 , 0.06663398, 0.06663336, 0.06712922],\n",
       "       [0.06616969, 0.06617256, 0.06617073, 0.06618172, 0.06615859,\n",
       "        0.06617153, 0.06618012, 0.06617387, 0.06618398, 0.06616752,\n",
       "        0.066178  , 0.06617548, 0.06617531, 0.0661669 , 0.07357399],\n",
       "       [0.06663375, 0.06663383, 0.06663335, 0.06663355, 0.06663339,\n",
       "        0.0666338 , 0.0666338 , 0.06663378, 0.06663345, 0.06663414,\n",
       "        0.06663339, 0.06663394, 0.06663341, 0.06663344, 0.06712897],\n",
       "       [0.06617316, 0.06616416, 0.06616561, 0.0661789 , 0.06616367,\n",
       "        0.06617535, 0.06617331, 0.06616926, 0.06617119, 0.06617086,\n",
       "        0.06617686, 0.06617963, 0.06617225, 0.06617886, 0.07358694],\n",
       "       [0.06663289, 0.06663368, 0.06663477, 0.06663303, 0.06663306,\n",
       "        0.06663376, 0.06663432, 0.0666335 , 0.06663355, 0.06663315,\n",
       "        0.06663353, 0.06663415, 0.06663402, 0.06663328, 0.0671293 ],\n",
       "       [0.06663351, 0.06663351, 0.06663334, 0.06663374, 0.06663397,\n",
       "        0.06663331, 0.06663356, 0.06663342, 0.06663362, 0.06663411,\n",
       "        0.06663382, 0.06663336, 0.06663361, 0.06663365, 0.06712945]])"
      ]
     },
     "execution_count": 18,
     "metadata": {},
     "output_type": "execute_result"
    }
   ],
   "source": [
    "action_list_2 = np.load(\"result/\"+ model_name + \"/test_result/action2.npy\")\n",
    "# action_list_2 = check_action_score(action_list_2)\n",
    "# np.save(\"result/EIIE/test_result/action2.npy\",action_list_2)\n",
    "action_list_2\n"
   ]
  },
  {
   "cell_type": "code",
   "execution_count": 16,
   "metadata": {},
   "outputs": [
    {
     "data": {
      "text/plain": [
       "array([[0.06663373, 0.06663321, 0.0666323 , 0.06663393, 0.06663376,\n",
       "        0.06663373, 0.06663493, 0.06663206, 0.0666336 , 0.06663402,\n",
       "        0.06663324, 0.06663411, 0.0666339 , 0.06663387, 0.06712961],\n",
       "       [0.06663454, 0.06663278, 0.06663299, 0.06663355, 0.06663258,\n",
       "        0.06663361, 0.06663457, 0.06663318, 0.06663356, 0.06663442,\n",
       "        0.06663375, 0.06663437, 0.06663314, 0.06663386, 0.06712909],\n",
       "       [0.06663366, 0.06663338, 0.06663314, 0.06663343, 0.06663412,\n",
       "        0.06663358, 0.06663401, 0.06663363, 0.06663342, 0.06663314,\n",
       "        0.06663355, 0.06663363, 0.06663394, 0.06663382, 0.06712957],\n",
       "       [0.06663372, 0.06663336, 0.06663348, 0.06663364, 0.06663322,\n",
       "        0.06663387, 0.06663341, 0.06663323, 0.0666334 , 0.06663414,\n",
       "        0.06663401, 0.06663385, 0.06663432, 0.06663364, 0.0671287 ],\n",
       "       [0.06663394, 0.06663347, 0.06663288, 0.06663348, 0.06663279,\n",
       "        0.06663394, 0.06663377, 0.06663335, 0.06663366, 0.06663384,\n",
       "        0.06663391, 0.06663419, 0.0666336 , 0.06663403, 0.06712914],\n",
       "       [0.06663371, 0.06663364, 0.06663384, 0.06663403, 0.06663317,\n",
       "        0.06663346, 0.0666337 , 0.06663357, 0.06663354, 0.06663353,\n",
       "        0.06663346, 0.06663328, 0.06663397, 0.06663378, 0.06712933],\n",
       "       [0.06663398, 0.06663417, 0.06663356, 0.06663392, 0.06663334,\n",
       "        0.06663346, 0.06663397, 0.06663167, 0.0666336 , 0.0666338 ,\n",
       "        0.06663379, 0.06663361, 0.06663365, 0.06663411, 0.06712936],\n",
       "       [0.06663437, 0.06663313, 0.06663338, 0.06663351, 0.06663296,\n",
       "        0.06663424, 0.06663313, 0.06663347, 0.06663372, 0.06663314,\n",
       "        0.06663361, 0.06663412, 0.06663411, 0.06663394, 0.06712916],\n",
       "       [0.06663384, 0.06663373, 0.06663381, 0.06663359, 0.0666346 ,\n",
       "        0.06663422, 0.06663297, 0.06663387, 0.06663343, 0.06663343,\n",
       "        0.06663402, 0.0666328 , 0.06663384, 0.06663312, 0.06712873]])"
      ]
     },
     "execution_count": 16,
     "metadata": {},
     "output_type": "execute_result"
    }
   ],
   "source": [
    "action_list_1 = np.load(\"result/\"+ model_name + \"/test_result/action1.npy\")\n",
    "# action_list_1 = check_action_score(action_list_1)\n",
    "action_list_1\n",
    "# np.save(\"result/EIIE/test_result/action1.npy\",action_list_1)"
   ]
  },
  {
   "cell_type": "code",
   "execution_count": 20,
   "metadata": {},
   "outputs": [
    {
     "name": "stdout",
     "output_type": "stream",
     "text": [
      "0.9999999999999998\n",
      "1.0\n",
      "1.0\n",
      "0.9999999999999999\n",
      "1.0\n",
      "1.0\n",
      "1.0\n",
      "0.9999999999999999\n",
      "1.0\n"
     ]
    }
   ],
   "source": [
    "for i in action_list_2:\n",
    "    print(sum(i))\n",
    "# print(len(action_list_1[7]))\n",
    "# len(action_list_1[7])\n",
    "# print(action_list_1)\n",
    "# sum(action_list_1[7])"
   ]
  },
  {
   "cell_type": "code",
   "execution_count": 2,
   "metadata": {},
   "outputs": [
    {
     "data": {
      "text/plain": [
       "array([0.82330118, 0.80054858, 0.84710509, 0.9555422 , 0.28339452,\n",
       "       0.66057517, 0.9465914 , 0.5065532 , 0.71509163, 0.19289542,\n",
       "       0.7381412 , 0.5534191 , 0.1316201 , 0.63032038, 0.00503684,\n",
       "       0.47246904])"
      ]
     },
     "execution_count": 2,
     "metadata": {},
     "output_type": "execute_result"
    }
   ],
   "source": [
    "np.random.rand(16)"
   ]
  },
  {
   "cell_type": "code",
   "execution_count": 12,
   "metadata": {},
   "outputs": [
    {
     "data": {
      "text/plain": [
       "array([[10., 10., 10., 10., 10., 10., 10., 10., 10., 10.],\n",
       "       [10., 10., 10., 10., 10., 10., 10., 10., 10., 10.],\n",
       "       [10., 10., 10., 10., 10., 10., 10., 10., 10., 10.],\n",
       "       [10., 10., 10., 10., 10., 10., 10., 10., 10., 10.],\n",
       "       [10., 10., 10., 10., 10., 10., 10., 10., 10., 10.]], dtype=float32)"
      ]
     },
     "execution_count": 12,
     "metadata": {},
     "output_type": "execute_result"
    }
   ],
   "source": [
    "import numpy as np\n",
    "a = np.empty((5,10),np.float32)\n",
    "# a[:] = np.array(10) + np.random.randint(-2,2,5).reshape(5,1)\n",
    "a[:] = 10\n",
    "a"
   ]
  },
  {
   "cell_type": "code",
   "execution_count": 16,
   "metadata": {},
   "outputs": [
    {
     "data": {
      "text/plain": [
       "array([[-1],\n",
       "       [ 0],\n",
       "       [-2],\n",
       "       [ 0],\n",
       "       [ 0]])"
      ]
     },
     "execution_count": 16,
     "metadata": {},
     "output_type": "execute_result"
    }
   ],
   "source": [
    "np.random.randint(-2,2,5).reshape(5,1)"
   ]
  },
  {
   "cell_type": "code",
   "execution_count": 17,
   "metadata": {},
   "outputs": [
    {
     "data": {
      "text/plain": [
       "array([[-1,  0,  1,  2,  3,  4,  5,  6,  7,  8],\n",
       "       [ 1,  2,  3,  4,  5,  6,  7,  8,  9, 10],\n",
       "       [ 1,  2,  3,  4,  5,  6,  7,  8,  9, 10],\n",
       "       [-2, -1,  0,  1,  2,  3,  4,  5,  6,  7],\n",
       "       [ 1,  2,  3,  4,  5,  6,  7,  8,  9, 10]])"
      ]
     },
     "execution_count": 17,
     "metadata": {},
     "output_type": "execute_result"
    }
   ],
   "source": [
    "np.array(range(10)) + np.random.randint(-2,2,5).reshape(5,1)\n"
   ]
  },
  {
   "cell_type": "code",
   "execution_count": 35,
   "metadata": {},
   "outputs": [
    {
     "data": {
      "text/plain": [
       "torch.Size([5, 3, 20])"
      ]
     },
     "execution_count": 35,
     "metadata": {},
     "output_type": "execute_result"
    }
   ],
   "source": [
    "rnn = nn.LSTM(10, 20, 2)\n",
    "input = torch.randn(5, 3, 10)\n",
    "h0 = torch.randn(2, 3, 20)\n",
    "c0 = torch.randn(2, 3, 20)\n",
    "output, (hn, cn) = rnn(input, (h0, c0))\n",
    "output.size()"
   ]
  },
  {
   "cell_type": "code",
   "execution_count": null,
   "metadata": {},
   "outputs": [],
   "source": []
  }
 ],
 "metadata": {
  "kernelspec": {
   "display_name": "Python 3.9.12 ('base')",
   "language": "python",
   "name": "python3"
  },
  "language_info": {
   "codemirror_mode": {
    "name": "ipython",
    "version": 3
   },
   "file_extension": ".py",
   "mimetype": "text/x-python",
   "name": "python",
   "nbconvert_exporter": "python",
   "pygments_lexer": "ipython3",
   "version": "3.9.12"
  },
  "orig_nbformat": 4,
  "vscode": {
   "interpreter": {
    "hash": "b0ef60ae2acd7272b700e0d59c8441536db607a994a33d88fe9cbde0933029ef"
   }
  }
 },
 "nbformat": 4,
 "nbformat_minor": 2
}
